{
 "cells": [
  {
   "cell_type": "markdown",
   "metadata": {},
   "source": [
    "* Network.py"
   ]
  },
  {
   "cell_type": "code",
   "execution_count": 2,
   "metadata": {},
   "outputs": [],
   "source": [
    "import numpy as np"
   ]
  },
  {
   "cell_type": "code",
   "execution_count": 3,
   "metadata": {},
   "outputs": [],
   "source": [
    "class Network:\n",
    "    def __init__(self, sizes):\n",
    "        \"\"\"\n",
    "        Network class\n",
    "        :type sizes: List[int], example: [2, 3, 1]\n",
    "        The list sizes contains the number of neurons in the respective layers.\n",
    "        \n",
    "        \"\"\"\n",
    "        self.num_layers = len(sizes)\n",
    "        self.sizes = sizes\n",
    "        self.biases = [np.random.randn(y, 1) for y in sizes[1:]]\n",
    "        self.weights = [np.random.randn(y, x) for x, y in zip(sizes[:-1], sizes[1:])]\n",
    "\n",
    "    def feed_forward(self, a):\n",
    "        \"\"\"\n",
    "        Return the output of the network if a is input.\n",
    "        :type a: \n",
    "        \"\"\"\n",
    "        for b, w in zip (self.biases, self.weights):\n",
    "            a = sigmoid(np.dot(w, a) + b)\n",
    "        return a\n",
    "    \n",
    "    def stochastic_gradient_descent(self, training_data, epochs, mini_batch_size, eta, test_data):\n",
    "        \"\"\"\n",
    "        :type training_data: a list of tuples \"(x, y)\" representing the training inputs and the desired outputs.\n",
    "        :type epochs: int, the number of epochs to train for\n",
    "        :type mini_batch_size: int, the size of the mini-batches to use when sampling\n",
    "        :type eta: float, the learning rate\n",
    "        :type test_data:\n",
    "        \"\"\"\n",
    "        if test_data:\n",
    "            n_test = len(test_data)\n",
    "        n = len(training_data)\n",
    "        \n",
    "        for i in range(epochs):\n",
    "            np.random.shuffle(training_data)\n",
    "            mini_batches = [training_data[k:k+mini_batch_size]\n",
    "                           for k in range(0, n, mini_batch_size)]\n",
    "        for mini_batch in mini_batches:\n",
    "            self.update_mini_batch(mini_batch, eta)\n",
    "        if test_data:\n",
    "            print(\"Epoch {0}: {1} / {2}\".format(i, self.evaluate(test_data), n_test))\n",
    "        else:\n",
    "            print(\"Epoch {0} complete\".format(i))\n",
    "\n",
    "    def update_mini_batch(self, mini_batch, eta):\n",
    "        \"\"\"Update the network's weights and biases by applying gradient descent using \n",
    "        backpropagation to a single mini batch. The \"mini_batch\" is a list of tuples \n",
    "        \"(x, y)\", and \"eta\" is the learning rate.\n",
    "        \"\"\"\n",
    "        \n",
    "        return"
   ]
  },
  {
   "cell_type": "markdown",
   "metadata": {},
   "source": [
    "For example, if we want to create a Network object with 2 neurons in the first layer, 3 neurons in the second layer, and 1 neuron in the final layer, we'd do this with the code:\n",
    "net = Network([2, 3, 1]). In this case,\n",
    "The biases b is a list with two elements: \n",
    "    3x1(3 nodes in hidden layer), \n",
    "    1x1(1 node in output layer)\n",
    "The weights b is a lis with two elements:\n",
    "    3x2(3 nodes in hidden layer, 2 nodes in input layer)\n",
    "    1x3(1 ndoe in outlayer, 3 nodes in hidden layer)"
   ]
  },
  {
   "cell_type": "code",
   "execution_count": 4,
   "metadata": {},
   "outputs": [],
   "source": [
    "sizes = [2, 3, 1]\n",
    "b = [np.random.randn(y, 1) for y in sizes[1:]]\n",
    "w = [np.random.randn(y, x) \n",
    "                        for x, y in zip(sizes[:-1], sizes[1:])]"
   ]
  },
  {
   "cell_type": "code",
   "execution_count": 11,
   "metadata": {},
   "outputs": [
    {
     "data": {
      "text/plain": [
       "[array([[ 0.37111311],\n",
       "        [-1.41769775],\n",
       "        [-0.43756111]]), array([[-1.47645555]])]"
      ]
     },
     "execution_count": 11,
     "metadata": {},
     "output_type": "execute_result"
    }
   ],
   "source": [
    "b"
   ]
  },
  {
   "cell_type": "code",
   "execution_count": 12,
   "metadata": {},
   "outputs": [
    {
     "data": {
      "text/plain": [
       "[array([[ 0.82094561,  1.63363795],\n",
       "        [-0.8008817 , -0.01949798],\n",
       "        [ 0.86774281,  0.37136588]]),\n",
       " array([[ 1.31527201, -1.97920267, -0.73741646]])]"
      ]
     },
     "execution_count": 12,
     "metadata": {},
     "output_type": "execute_result"
    }
   ],
   "source": [
    "w"
   ]
  },
  {
   "cell_type": "code",
   "execution_count": 13,
   "metadata": {},
   "outputs": [],
   "source": [
    "def sigmoid(z):\n",
    "    return 1.0 / (1.0 + np.exp(-z))"
   ]
  },
  {
   "cell_type": "code",
   "execution_count": 14,
   "metadata": {},
   "outputs": [
    {
     "data": {
      "text/plain": [
       "array([5.07595890e-435, 3.72007598e-044, 4.53978687e-005, 2.68941421e-001,\n",
       "       5.00000000e-001, 7.31058579e-001, 9.99954602e-001, 1.00000000e+000],\n",
       "      dtype=float128)"
      ]
     },
     "execution_count": 14,
     "metadata": {},
     "output_type": "execute_result"
    }
   ],
   "source": [
    "z=np.array([-1000, -100, -10, -1, 0, 1, 10, 100], dtype=np.float128)\n",
    "sigmoid(z)"
   ]
  }
 ],
 "metadata": {
  "kernelspec": {
   "display_name": "Python 3",
   "language": "python",
   "name": "python3"
  },
  "language_info": {
   "codemirror_mode": {
    "name": "ipython",
    "version": 3
   },
   "file_extension": ".py",
   "mimetype": "text/x-python",
   "name": "python",
   "nbconvert_exporter": "python",
   "pygments_lexer": "ipython3",
   "version": "3.6.4"
  }
 },
 "nbformat": 4,
 "nbformat_minor": 2
}
