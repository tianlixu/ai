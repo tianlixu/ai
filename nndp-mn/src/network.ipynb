{
 "cells": [
  {
   "cell_type": "markdown",
   "metadata": {},
   "source": [
    "* Network.py"
   ]
  },
  {
   "cell_type": "code",
   "execution_count": 22,
   "metadata": {},
   "outputs": [],
   "source": [
    "import numpy as np"
   ]
  },
  {
   "cell_type": "code",
   "execution_count": 23,
   "metadata": {},
   "outputs": [],
   "source": [
    "class Network:\n",
    "    def __init__(self, sizes):\n",
    "        \"\"\"\n",
    "        Network class\n",
    "        :type sizes: List[int], example: [2, 3, 1]\n",
    "        The list sizes contains the number of neurons in the respective layers.\n",
    "        \n",
    "        \"\"\"\n",
    "        self.num_layers = len(sizes)\n",
    "        self.sizes = sizes\n",
    "        self.biases = [np.random.randn(y, 1) for y in sizes[1:]]\n",
    "        self.weights = [np.random.randn(y, x) for x, y in zip(sizes[:-1], sizes[1:])]\n",
    "\n",
    "    def feed_forward(self, a):\n",
    "        \"\"\"\n",
    "        Return the output of the network if a is input.\n",
    "        :type a: \n",
    "        \"\"\"\n",
    "        for b, w in zip (self.biases, self.weights):\n",
    "            a = sigmoid(np.dot(w, a) + b)\n",
    "        return a"
   ]
  },
  {
   "cell_type": "markdown",
   "metadata": {},
   "source": [
    "For example, if we want to create a Network object with 2 neurons in the first layer, 3 neurons in the second layer, and 1 neuron in the final layer, we'd do this with the code:\n",
    "net = Network([2, 3, 1]). In this case,\n",
    "The biases b is a list with two elements: \n",
    "    3x1(3 nodes in hidden layer), \n",
    "    1x1(1 node in output layer)\n",
    "The weights b is a lis with two elements:\n",
    "    3x2(3 nodes in hidden layer, 2 nodes in input layer)\n",
    "    1x3(1 ndoe in outlayer, 3 nodes in hidden layer)"
   ]
  },
  {
   "cell_type": "code",
   "execution_count": 24,
   "metadata": {},
   "outputs": [],
   "source": [
    "sizes = [2, 3, 1]\n",
    "b = [np.random.randn(y, 1) for y in sizes[1:]]\n",
    "w = [np.random.randn(y, x) \n",
    "                        for x, y in zip(sizes[:-1], sizes[1:])]"
   ]
  },
  {
   "cell_type": "code",
   "execution_count": 25,
   "metadata": {},
   "outputs": [
    {
     "data": {
      "text/plain": [
       "[array([[1.33426146],\n",
       "        [0.03952497],\n",
       "        [0.2227841 ]]), array([[0.94887301]])]"
      ]
     },
     "execution_count": 25,
     "metadata": {},
     "output_type": "execute_result"
    }
   ],
   "source": [
    "b"
   ]
  },
  {
   "cell_type": "code",
   "execution_count": 26,
   "metadata": {},
   "outputs": [
    {
     "data": {
      "text/plain": [
       "[array([[ 1.43911167,  1.16604097],\n",
       "        [ 0.69559313,  0.2426289 ],\n",
       "        [-0.15695629, -0.14659885]]),\n",
       " array([[-1.61039197, -1.15120883, -0.36781349]])]"
      ]
     },
     "execution_count": 26,
     "metadata": {},
     "output_type": "execute_result"
    }
   ],
   "source": [
    "w"
   ]
  },
  {
   "cell_type": "code",
   "execution_count": 27,
   "metadata": {},
   "outputs": [],
   "source": [
    "def sigmoid(z):\n",
    "    return 1.0 / (1.0 + np.exp(-z))"
   ]
  },
  {
   "cell_type": "code",
   "execution_count": 47,
   "metadata": {},
   "outputs": [
    {
     "data": {
      "text/plain": [
       "array([5.07595890e-435, 3.72007598e-044, 4.53978687e-005, 2.68941421e-001,\n",
       "       5.00000000e-001, 7.31058579e-001, 9.99954602e-001, 1.00000000e+000],\n",
       "      dtype=float128)"
      ]
     },
     "execution_count": 47,
     "metadata": {},
     "output_type": "execute_result"
    }
   ],
   "source": [
    "z=np.array([-1000, -100, -10, -1, 0, 1, 10, 100], dtype=np.float128)\n",
    "#a = sigmoid(z)\n",
    "type(z)\n",
    "sigmoid(z)"
   ]
  }
 ],
 "metadata": {
  "kernelspec": {
   "display_name": "Python 3",
   "language": "python",
   "name": "python3"
  },
  "language_info": {
   "codemirror_mode": {
    "name": "ipython",
    "version": 3
   },
   "file_extension": ".py",
   "mimetype": "text/x-python",
   "name": "python",
   "nbconvert_exporter": "python",
   "pygments_lexer": "ipython3",
   "version": "3.6.4"
  }
 },
 "nbformat": 4,
 "nbformat_minor": 2
}
