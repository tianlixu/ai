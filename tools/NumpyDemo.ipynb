{
 "cells": [
  {
   "cell_type": "markdown",
   "metadata": {},
   "source": [
    "# Numpy Notes"
   ]
  },
  {
   "cell_type": "code",
   "execution_count": 24,
   "metadata": {},
   "outputs": [],
   "source": [
    "import numpy as np\n",
    "import pandas as pd"
   ]
  },
  {
   "cell_type": "markdown",
   "metadata": {},
   "source": [
    "## np array shape"
   ]
  },
  {
   "cell_type": "code",
   "execution_count": 25,
   "metadata": {},
   "outputs": [
    {
     "name": "stdout",
     "output_type": "stream",
     "text": [
      "(3,)\n",
      "(1, 3)\n"
     ]
    }
   ],
   "source": [
    "A3 = np.array([1, 2, 3])\n",
    "A1x3 = np.array([[1, 2, 3]])\n",
    "print(A3.shape)\n",
    "print(A1x3.shape)"
   ]
  },
  {
   "cell_type": "code",
   "execution_count": 26,
   "metadata": {},
   "outputs": [
    {
     "name": "stdout",
     "output_type": "stream",
     "text": [
      "[ 2.14781124 -0.17314947 -1.00708862 -0.25458453 -0.56336505]\n",
      "(5,)\n",
      "[ 2.14781124 -0.17314947 -1.00708862 -0.25458453 -0.56336505]\n",
      "6.039494810821523\n",
      "6.039494810821523\n",
      "[[ 2.14781124]\n",
      " [-0.17314947]\n",
      " [-1.00708862]\n",
      " [-0.25458453]\n",
      " [-0.56336505]]\n",
      "\n",
      "[[ 0.69572502]\n",
      " [ 0.12944343]\n",
      " [ 0.4599395 ]\n",
      " [ 0.86507704]\n",
      " [-0.6881499 ]]\n",
      "(5, 1)\n",
      "[[ 0.69572502  0.12944343  0.4599395   0.86507704 -0.6881499 ]]\n",
      "[[ 0.48403331  0.09005704  0.31999142  0.60185574 -0.47876311]\n",
      " [ 0.09005704  0.0167556   0.05953615  0.11197854 -0.08907649]\n",
      " [ 0.31999142  0.05953615  0.21154434  0.3978831  -0.31650732]\n",
      " [ 0.60185574  0.11197854  0.3978831   0.74835828 -0.59530268]\n",
      " [-0.47876311 -0.08907649 -0.31650732 -0.59530268  0.47355029]]\n",
      "[[1.93424182]]\n"
     ]
    }
   ],
   "source": [
    "# a is a rank 1 array\n",
    "a = np.random.randn(5)\n",
    "print(a)\n",
    "print(a.shape)\n",
    "print(a.T)\n",
    "print(np.dot(a, a.T))\n",
    "print(np.dot(a.T, a))\n",
    "a = a.reshape((5, 1))\n",
    "print(a)\n",
    "print()\n",
    "\n",
    "# A is a column vector (5x1)\n",
    "A = np.random.randn(5, 1)\n",
    "print(A)\n",
    "print(A.shape)\n",
    "# A.T is a row vector (1x5)\n",
    "print(A.T)\n",
    "print(np.dot(A, A.T))\n",
    "print(np.dot(A.T, A))"
   ]
  },
  {
   "cell_type": "markdown",
   "metadata": {},
   "source": [
    "Reshape the training and test data sets so that images of size (num_px, num_px, 3) are flattened into single vectors of shape (num_px  ∗∗  num_px  ∗∗ 3, 1).\n",
    "\n",
    "A trick when you want to flatten a matrix X of shape (a,b,c,d) to a matrix X_flatten of shape (b ∗∗ c ∗∗ d, a) is to use:\n",
    "\n",
    "X_flatten = X.reshape(X.shape[0], -1).T      # X.T is the transpose of X"
   ]
  },
  {
   "cell_type": "code",
   "execution_count": 27,
   "metadata": {},
   "outputs": [
    {
     "name": "stdout",
     "output_type": "stream",
     "text": [
      "[[[ 1.10213437e+00 -5.77671244e-01  2.15238386e+00  5.94397031e-01]\n",
      "  [-1.01971191e-03 -1.60856509e+00 -1.17987057e+00  1.47613056e+00]\n",
      "  [ 9.10192870e-01  3.17824336e-01  4.57557025e-01 -6.49679960e-01]]\n",
      "\n",
      " [[ 2.72823397e-01 -1.34530009e+00 -8.07962124e-01 -5.13845323e-01]\n",
      "  [-1.04741566e+00 -4.45306829e-01 -5.33580353e-01 -1.23559309e+00]\n",
      "  [ 7.50514182e-01  1.27315836e+00  8.58702771e-01  1.76627307e+00]]]\n",
      "(2, 3, 4)\n",
      "[[ 1.10213437e+00 -5.77671244e-01  2.15238386e+00  5.94397031e-01]\n",
      " [-1.01971191e-03 -1.60856509e+00 -1.17987057e+00  1.47613056e+00]\n",
      " [ 9.10192870e-01  3.17824336e-01  4.57557025e-01 -6.49679960e-01]\n",
      " [ 2.72823397e-01 -1.34530009e+00 -8.07962124e-01 -5.13845323e-01]\n",
      " [-1.04741566e+00 -4.45306829e-01 -5.33580353e-01 -1.23559309e+00]\n",
      " [ 7.50514182e-01  1.27315836e+00  8.58702771e-01  1.76627307e+00]]\n",
      "(6, 4)\n",
      "(24, 1)\n",
      "[[ 1.10213437e+00]\n",
      " [-5.77671244e-01]\n",
      " [ 2.15238386e+00]\n",
      " [ 5.94397031e-01]\n",
      " [-1.01971191e-03]\n",
      " [-1.60856509e+00]\n",
      " [-1.17987057e+00]\n",
      " [ 1.47613056e+00]\n",
      " [ 9.10192870e-01]\n",
      " [ 3.17824336e-01]\n",
      " [ 4.57557025e-01]\n",
      " [-6.49679960e-01]\n",
      " [ 2.72823397e-01]\n",
      " [-1.34530009e+00]\n",
      " [-8.07962124e-01]\n",
      " [-5.13845323e-01]\n",
      " [-1.04741566e+00]\n",
      " [-4.45306829e-01]\n",
      " [-5.33580353e-01]\n",
      " [-1.23559309e+00]\n",
      " [ 7.50514182e-01]\n",
      " [ 1.27315836e+00]\n",
      " [ 8.58702771e-01]\n",
      " [ 1.76627307e+00]]\n"
     ]
    }
   ],
   "source": [
    "a = np.random.randn(2,3,4)\n",
    "print(a)\n",
    "print(a.shape)\n",
    "\n",
    "b = a.reshape((a.shape[0] * a.shape[1], a.shape[2]))\n",
    "print(b)\n",
    "print(b.shape)\n",
    "\n",
    "c = a.reshape((a.shape[0] * a.shape[1] * a.shape[2], 1))\n",
    "print(c.shape)\n",
    "print(c)"
   ]
  },
  {
   "cell_type": "markdown",
   "metadata": {},
   "source": [
    "## eye and identity matrix"
   ]
  },
  {
   "cell_type": "code",
   "execution_count": 28,
   "metadata": {},
   "outputs": [
    {
     "data": {
      "text/plain": [
       "array([[1., 0., 0.],\n",
       "       [0., 1., 0.],\n",
       "       [0., 0., 1.]])"
      ]
     },
     "execution_count": 28,
     "metadata": {},
     "output_type": "execute_result"
    }
   ],
   "source": [
    "np.eye(3)"
   ]
  },
  {
   "cell_type": "code",
   "execution_count": 29,
   "metadata": {},
   "outputs": [
    {
     "data": {
      "text/plain": [
       "array([[0., 1., 0.],\n",
       "       [0., 0., 1.],\n",
       "       [0., 0., 0.]])"
      ]
     },
     "execution_count": 29,
     "metadata": {},
     "output_type": "execute_result"
    }
   ],
   "source": [
    "np.eye(3, k=1)"
   ]
  },
  {
   "cell_type": "code",
   "execution_count": 30,
   "metadata": {},
   "outputs": [
    {
     "data": {
      "text/plain": [
       "array([[0., 0., 0.],\n",
       "       [1., 0., 0.],\n",
       "       [0., 1., 0.]])"
      ]
     },
     "execution_count": 30,
     "metadata": {},
     "output_type": "execute_result"
    }
   ],
   "source": [
    "np.eye(3, k=-1)"
   ]
  },
  {
   "cell_type": "code",
   "execution_count": 31,
   "metadata": {},
   "outputs": [
    {
     "data": {
      "text/plain": [
       "array([[0, 1, 0],\n",
       "       [0, 0, 1],\n",
       "       [0, 0, 0]])"
      ]
     },
     "execution_count": 31,
     "metadata": {},
     "output_type": "execute_result"
    }
   ],
   "source": [
    "np.eye(3, k=1, dtype=int)"
   ]
  },
  {
   "cell_type": "code",
   "execution_count": 32,
   "metadata": {},
   "outputs": [
    {
     "data": {
      "text/plain": [
       "array([[1., 0., 0.],\n",
       "       [0., 1., 0.],\n",
       "       [0., 0., 1.]])"
      ]
     },
     "execution_count": 32,
     "metadata": {},
     "output_type": "execute_result"
    }
   ],
   "source": [
    "np.identity(3)"
   ]
  },
  {
   "cell_type": "markdown",
   "metadata": {},
   "source": [
    "## Load txt data"
   ]
  },
  {
   "cell_type": "code",
   "execution_count": 33,
   "metadata": {},
   "outputs": [],
   "source": [
    "data = np.loadtxt(\"ex1data1.txt\",delimiter=',')"
   ]
  },
  {
   "cell_type": "code",
   "execution_count": 34,
   "metadata": {},
   "outputs": [
    {
     "ename": "NameError",
     "evalue": "name 'data' is not defined",
     "output_type": "error",
     "traceback": [
      "\u001b[0;31m---------------------------------------------------------------------------\u001b[0m",
      "\u001b[0;31mNameError\u001b[0m                                 Traceback (most recent call last)",
      "\u001b[0;32m<ipython-input-34-9617292eb96a>\u001b[0m in \u001b[0;36m<module>\u001b[0;34m()\u001b[0m\n\u001b[0;32m----> 1\u001b[0;31m \u001b[0mdata\u001b[0m\u001b[0;34m[\u001b[0m\u001b[0;34m:\u001b[0m\u001b[0;36m5\u001b[0m\u001b[0;34m]\u001b[0m\u001b[0;34m\u001b[0m\u001b[0m\n\u001b[0m",
      "\u001b[0;31mNameError\u001b[0m: name 'data' is not defined"
     ]
    }
   ],
   "source": [
    "data[:5]"
   ]
  },
  {
   "cell_type": "code",
   "execution_count": null,
   "metadata": {},
   "outputs": [],
   "source": [
    "X = data[:, 0]\n",
    "y = data[:, 1]"
   ]
  },
  {
   "cell_type": "code",
   "execution_count": null,
   "metadata": {},
   "outputs": [],
   "source": [
    "X[:5], y[:5]"
   ]
  },
  {
   "cell_type": "code",
   "execution_count": null,
   "metadata": {},
   "outputs": [],
   "source": [
    "m = len(X)\n",
    "m"
   ]
  },
  {
   "cell_type": "markdown",
   "metadata": {},
   "source": [
    "# Binding arrays"
   ]
  },
  {
   "cell_type": "markdown",
   "metadata": {},
   "source": [
    "## Bind two or more 1-dimentional arrays as a matrix"
   ]
  },
  {
   "cell_type": "code",
   "execution_count": null,
   "metadata": {
    "scrolled": true
   },
   "outputs": [],
   "source": [
    "a = np.array([1, 2, 3])\n",
    "b = np.ones(3)"
   ]
  },
  {
   "cell_type": "code",
   "execution_count": null,
   "metadata": {},
   "outputs": [],
   "source": [
    "print(a.shape)\n",
    "a"
   ]
  },
  {
   "cell_type": "code",
   "execution_count": null,
   "metadata": {},
   "outputs": [],
   "source": [
    "print(b.shape)\n",
    "b"
   ]
  },
  {
   "cell_type": "code",
   "execution_count": null,
   "metadata": {},
   "outputs": [],
   "source": [
    "c = np.zeros(3)\n",
    "m = np.column_stack((c, b, a))"
   ]
  },
  {
   "cell_type": "code",
   "execution_count": null,
   "metadata": {},
   "outputs": [],
   "source": [
    "print(m.shape)\n",
    "m"
   ]
  },
  {
   "cell_type": "code",
   "execution_count": null,
   "metadata": {},
   "outputs": [],
   "source": [
    "np.dstack((c, b, a))"
   ]
  },
  {
   "cell_type": "code",
   "execution_count": null,
   "metadata": {},
   "outputs": [],
   "source": [
    "np.vstack((c,b,a))"
   ]
  },
  {
   "cell_type": "code",
   "execution_count": null,
   "metadata": {},
   "outputs": [],
   "source": [
    "np.stack((c, b, a))"
   ]
  },
  {
   "cell_type": "code",
   "execution_count": null,
   "metadata": {},
   "outputs": [],
   "source": [
    "np.hstack((c, b, a))"
   ]
  },
  {
   "cell_type": "code",
   "execution_count": null,
   "metadata": {},
   "outputs": [],
   "source": [
    "np.concatenate((c, b, a))"
   ]
  },
  {
   "cell_type": "code",
   "execution_count": null,
   "metadata": {},
   "outputs": [],
   "source": [
    "np.append(b, a)"
   ]
  },
  {
   "cell_type": "code",
   "execution_count": null,
   "metadata": {},
   "outputs": [],
   "source": [
    "np.append(b, a, axis=0)"
   ]
  },
  {
   "cell_type": "markdown",
   "metadata": {},
   "source": [
    "## Reshape and flatten matrices"
   ]
  },
  {
   "cell_type": "code",
   "execution_count": null,
   "metadata": {},
   "outputs": [],
   "source": [
    "a = np.array([[1,2,3], [4,5,6]])\n",
    "a"
   ]
  },
  {
   "cell_type": "code",
   "execution_count": null,
   "metadata": {},
   "outputs": [],
   "source": [
    "a.flatten('C')"
   ]
  },
  {
   "cell_type": "code",
   "execution_count": null,
   "metadata": {},
   "outputs": [],
   "source": [
    "a.flatten('F')"
   ]
  },
  {
   "cell_type": "code",
   "execution_count": null,
   "metadata": {},
   "outputs": [],
   "source": [
    "a.flatten('A')"
   ]
  },
  {
   "cell_type": "code",
   "execution_count": null,
   "metadata": {},
   "outputs": [],
   "source": [
    "a.flatten('K')"
   ]
  },
  {
   "cell_type": "code",
   "execution_count": null,
   "metadata": {},
   "outputs": [],
   "source": [
    "a.flatten()"
   ]
  },
  {
   "cell_type": "markdown",
   "metadata": {},
   "source": [
    "A3x2 B2x1"
   ]
  },
  {
   "cell_type": "code",
   "execution_count": null,
   "metadata": {},
   "outputs": [],
   "source": [
    "A = np.array([[1,2], [3,4], [5,6]])\n",
    "A"
   ]
  },
  {
   "cell_type": "code",
   "execution_count": null,
   "metadata": {},
   "outputs": [],
   "source": [
    "Bm = np.array([[1], [2]])\n",
    "print(Bm.shape)\n",
    "Bm"
   ]
  },
  {
   "cell_type": "code",
   "execution_count": null,
   "metadata": {},
   "outputs": [],
   "source": [
    "Bv = np.array([1, 2])\n",
    "print(Bv.shape)\n",
    "Bv"
   ]
  },
  {
   "cell_type": "code",
   "execution_count": null,
   "metadata": {},
   "outputs": [],
   "source": [
    "np.dot(A, Bm)"
   ]
  },
  {
   "cell_type": "code",
   "execution_count": null,
   "metadata": {},
   "outputs": [],
   "source": [
    "np.dot(A, Bv)"
   ]
  },
  {
   "cell_type": "markdown",
   "metadata": {},
   "source": [
    "## Sum/Addition"
   ]
  },
  {
   "cell_type": "code",
   "execution_count": null,
   "metadata": {},
   "outputs": [],
   "source": [
    "A = np.array([\n",
    "    [1, 2, 3],\n",
    "    [4, 5, 6]\n",
    "])\n",
    "print(A)\n",
    "print(A.shape)"
   ]
  },
  {
   "cell_type": "code",
   "execution_count": 35,
   "metadata": {
    "scrolled": true
   },
   "outputs": [
    {
     "name": "stdout",
     "output_type": "stream",
     "text": [
      "1.462035090114843\n",
      "[1.46203509]\n",
      "[ 0.69572502  0.12944343  0.4599395   0.86507704 -0.6881499 ]\n"
     ]
    }
   ],
   "source": [
    "print(A.sum())       # sum all the elements\n",
    "print(A.sum(axis=0)) # sum rows\n",
    "print(A.sum(axis=1)) # sum columns"
   ]
  },
  {
   "cell_type": "code",
   "execution_count": null,
   "metadata": {},
   "outputs": [],
   "source": [
    "a = np.array([1,2,3,4])\n",
    "b = np.array([[1,2,3,4]])\n",
    "\n",
    "print(a.shape)\n",
    "print(b.shape)\n",
    "\n",
    "sum_a = np.sum(a)\n",
    "sum_b = np.sum(b)\n",
    "print(sum_a.shape)\n",
    "print(sum_b.shape)\n",
    "\n",
    "sum_a_keep = np.sum(a, keepdims=True)\n",
    "sum_b_keep = np.sum(b, keepdims=True)\n",
    "print(sum_a_keep.shape)\n",
    "print(sum_b_keep.shape)"
   ]
  },
  {
   "cell_type": "code",
   "execution_count": null,
   "metadata": {},
   "outputs": [],
   "source": [
    "print(A + 100)\n",
    "print()\n",
    "B = np.array([[100, 200, 300]])\n",
    "print(A + B)"
   ]
  },
  {
   "cell_type": "markdown",
   "metadata": {},
   "source": [
    "## Vectorization vs for-loop"
   ]
  },
  {
   "cell_type": "code",
   "execution_count": null,
   "metadata": {},
   "outputs": [],
   "source": [
    "import time\n",
    "\n",
    "# w and x are 1 million array\n",
    "w = np.random.rand(1000000)\n",
    "x = np.random.rand(1000000)\n",
    "\n",
    "tic = time.time()\n",
    "c = np.dot(w, x)\n",
    "toc = time.time()\n",
    "print(\"Vectorized version: \" + str(1000*(toc-tic)) + \"ms\")\n",
    "print(c)\n",
    "\n",
    "c = 0\n",
    "tic = time.time()\n",
    "for i in range(1000000):\n",
    "    c += w[i] * x[i]\n",
    "toc = time.time()\n",
    "print(\"for-loop version: \" + str(1000*(toc-tic)) + \"ms\")\n",
    "print(c)\n",
    "\n",
    "c = 0\n",
    "tic = time.time()\n",
    "for i in range(1000000):\n",
    "    pass\n",
    "toc = time.time()\n",
    "print(\"for-loop pass version: \" + str(1000*(toc-tic)) + \"ms\")\n",
    "print(c)\n"
   ]
  },
  {
   "cell_type": "code",
   "execution_count": null,
   "metadata": {},
   "outputs": [],
   "source": []
  },
  {
   "cell_type": "code",
   "execution_count": null,
   "metadata": {},
   "outputs": [],
   "source": []
  }
 ],
 "metadata": {
  "kernelspec": {
   "display_name": "Python 3",
   "language": "python",
   "name": "python3"
  },
  "language_info": {
   "codemirror_mode": {
    "name": "ipython",
    "version": 3
   },
   "file_extension": ".py",
   "mimetype": "text/x-python",
   "name": "python",
   "nbconvert_exporter": "python",
   "pygments_lexer": "ipython3",
   "version": "3.6.4"
  }
 },
 "nbformat": 4,
 "nbformat_minor": 2
}
